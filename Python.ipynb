{
 "cells": [
  {
   "cell_type": "code",
   "execution_count": 11,
   "id": "38f1e276",
   "metadata": {},
   "outputs": [
    {
     "name": "stdout",
     "output_type": "stream",
     "text": [
      "I recommended it, It is good\n"
     ]
    }
   ],
   "source": [
    "movie,rate,popularity_score= \"Top gun\",3,72.65\n",
    "if rate >=4 and popularity_score >=80:\n",
    "    print(\"Highly recommended\")\n",
    "elif rate >=3 and popularity_score >=70:\n",
    "    print(\"I recommended it, It is good\")\n",
    "elif rate >=2 and popularity_score >=60: \n",
    "    print(\"You should check it out!\")\n",
    "else:\n",
    "    print(\"Don't watch it, It is a waste of time\")\n"
   ]
  },
  {
   "cell_type": "code",
   "execution_count": null,
   "id": "3b989c71",
   "metadata": {},
   "outputs": [],
   "source": []
  }
 ],
 "metadata": {
  "kernelspec": {
   "display_name": "Python 3 (ipykernel)",
   "language": "python",
   "name": "python3"
  },
  "language_info": {
   "codemirror_mode": {
    "name": "ipython",
    "version": 3
   },
   "file_extension": ".py",
   "mimetype": "text/x-python",
   "name": "python",
   "nbconvert_exporter": "python",
   "pygments_lexer": "ipython3",
   "version": "3.9.13"
  }
 },
 "nbformat": 4,
 "nbformat_minor": 5
}
